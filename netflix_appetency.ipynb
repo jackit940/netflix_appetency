{
  "metadata": {
    "kernelspec": {
      "language": "python",
      "display_name": "Python 3",
      "name": "python3"
    },
    "language_info": {
      "pygments_lexer": "ipython3",
      "nbconvert_exporter": "python",
      "version": "3.6.4",
      "file_extension": ".py",
      "codemirror_mode": {
        "name": "ipython",
        "version": 3
      },
      "name": "python",
      "mimetype": "text/x-python"
    },
    "colab": {
      "name": "netflix-appetency.ipynb",
      "provenance": [],
      "collapsed_sections": [
        "D5GoDUaCWHz0",
        "UwPwQ7YtWHz0"
      ],
      "include_colab_link": true
    }
  },
  "nbformat_minor": 0,
  "nbformat": 4,
  "cells": [
    {
      "cell_type": "markdown",
      "metadata": {
        "id": "view-in-github",
        "colab_type": "text"
      },
      "source": [
        "<a href=\"https://colab.research.google.com/github/jackit940/netflix_appetency/blob/main/netflix_appetency.ipynb\" target=\"_parent\"><img src=\"https://colab.research.google.com/assets/colab-badge.svg\" alt=\"Open In Colab\"/></a>"
      ]
    },
    {
      "cell_type": "markdown",
      "source": [
        "<h1 id=\"import\" style=\"color:white;background:#0076a8;padding:8px;border-radius:8px\">Import libraries</h1>"
      ],
      "metadata": {
        "id": "RALnrLFXWHza"
      }
    },
    {
      "cell_type": "markdown",
      "source": [
        "<h1 id=\"Netflix\" style=\"color:white;background:#0076a8;padding:8px;border-radius:8px\"> Netflix Appetency - Identify consumer willing to subscribe </h1>\n",
        "\n",
        "<center><img src=\"https://play-lh.googleusercontent.com/0rgPYj0GwZ6txpYZrzoMdhwzqg7vY6C9B-Ol7jlaz-Ox2rgpD4Tr82ZgDqkirrEohbGm\"></center>\n",
        "\n",
        "<h2>Goal:</h2>\n",
        "    \n",
        "Classify consumers according to their appetite to subscribe to Netflix.\n",
        "\n",
        "<h2>Metric:</h2>\n",
        "\n",
        "The metric used is AUC\n",
        "\n",
        "<h2>Data:</h2>\n",
        "\n",
        "* train.csv - the training set. it consists of an id column, the customers features, and a target column: target.\n",
        "* test.csv - the test set. it consists of everything in train.csv except target.\n",
        "* sample_submission.csv - a sample submission file in the correct format target=1 means that the customer subscribes to Netflix\n",
        "\n",
        "For reasons of confidentiality, the data is anonymized and augmented.\n"
      ],
      "metadata": {
        "id": "3WBVC9w7WHzV"
      }
    },
    {
      "cell_type": "code",
      "source": [
        "#!pip install kaggle\n",
        "#!pip install catboost\n",
        "#!pip install optuna\n",
        "#from catboost import CatBoostClassifier\n",
        "#import optuna\n",
        "\n",
        "import numpy as np\n",
        "import pandas as pd\n",
        "import seaborn as sns\n",
        "import matplotlib.pyplot as plt\n",
        "import datetime\n",
        "from sklearn.preprocessing import StandardScaler, OrdinalEncoder, MinMaxScaler\n",
        "from xgboost import XGBClassifier\n",
        "from lightgbm import LGBMClassifier\n",
        "from sklearn.model_selection import cross_val_score, KFold,StratifiedKFold,cross_val_predict, train_test_split\n",
        "from sklearn.metrics import roc_auc_score, confusion_matrix\n",
        "from sklearn.neighbors import KNeighborsClassifier\n",
        "from sklearn.ensemble import RandomForestClassifier\n",
        "from sklearn.naive_bayes import GaussianNB\n",
        "from sklearn.svm import SVC\n",
        "from sklearn.neural_network import MLPClassifier\n",
        "from sklearn.linear_model import LogisticRegression\n",
        "from sklearn.impute import KNNImputer\n",
        "import re\n",
        "from sklearn.linear_model import LinearRegression\n",
        "from sklearn.experimental import enable_iterative_imputer\n",
        "from sklearn.impute import IterativeImputer\n",
        "from scipy.stats import chi2_contingency\n",
        "\n",
        "import warnings\n",
        "warnings.filterwarnings('ignore')\n",
        "sns.set()"
      ],
      "metadata": {
        "_uuid": "8f2839f25d086af736a60e9eeb907d3b93b6e0e5",
        "_cell_guid": "b1076dfc-b9ad-4769-8c92-a6c4dae69d19",
        "_kg_hide-input": true,
        "execution": {
          "iopub.status.busy": "2022-03-30T23:59:01.787191Z",
          "iopub.execute_input": "2022-03-30T23:59:01.787941Z",
          "iopub.status.idle": "2022-03-30T23:59:05.084361Z",
          "shell.execute_reply.started": "2022-03-30T23:59:01.787838Z",
          "shell.execute_reply": "2022-03-30T23:59:05.08356Z"
        },
        "trusted": true,
        "id": "dJknJITgWHzb"
      },
      "execution_count": 212,
      "outputs": []
    },
    {
      "cell_type": "code",
      "source": [
        "from google.colab import drive\n",
        "ROOT = '/content/gdrive'\n",
        "drive.mount(ROOT)"
      ],
      "metadata": {
        "colab": {
          "base_uri": "https://localhost:8080/"
        },
        "id": "FHP00nCxEJtg",
        "outputId": "3f5c8e63-2d96-478f-b659-30c64ef9beb7"
      },
      "execution_count": 2,
      "outputs": [
        {
          "output_type": "stream",
          "name": "stdout",
          "text": [
            "Mounted at /content/gdrive\n"
          ]
        }
      ]
    },
    {
      "cell_type": "code",
      "source": [
        "#files.upload()\n",
        "#!ls -1ha kaggle.json\n",
        "#!mkdir -p ~/.kaggle\n",
        "#!cp kaggle.json ~/.kaggle\n",
        "#!chmod 600 ~/.kaggle/kaggle.json\n",
        "#!kaggle competitions download -c netflix-appetency\n",
        "#!unzip /content/netflix-appetency.zip\n",
        "#!mv test.csv \"./drive/MyDrive/Colab Notebooks/test.csv\"\n",
        "#!mv train.csv \"./drive/MyDrive/Colab Notebooks/train.csv\"\n",
        "#!mv sample_submission.csv \"./drive/MyDrive/Colab Notebooks/sample_submission.csv\""
      ],
      "metadata": {
        "colab": {
          "base_uri": "https://localhost:8080/"
        },
        "id": "EIgJamJKKJ_h",
        "outputId": "edb11d30-f032-4737-d62f-bde9d6cf8229"
      },
      "execution_count": null,
      "outputs": [
        {
          "output_type": "stream",
          "name": "stdout",
          "text": [
            "Downloading netflix-appetency.zip to /content\n",
            " 69% 23.0M/33.2M [00:00<00:00, 118MB/s] \n",
            "100% 33.2M/33.2M [00:00<00:00, 113MB/s]\n",
            "Archive:  /content/netflix-appetency.zip\n",
            "  inflating: sample_submission.csv   \n",
            "  inflating: test.csv                \n",
            "  inflating: train.csv               \n"
          ]
        }
      ]
    },
    {
      "cell_type": "code",
      "source": [
        "train = pd.read_csv(\"./gdrive/MyDrive/Colab Notebooks/train.csv\")\n",
        "test = pd.read_csv(\"./gdrive/MyDrive/Colab Notebooks/test.csv\")\n",
        "submission = pd.read_csv(\"./gdrive/MyDrive/Colab Notebooks/sample_submission.csv\")"
      ],
      "metadata": {
        "id": "Ut67DjJnKmG2"
      },
      "execution_count": 202,
      "outputs": []
    },
    {
      "cell_type": "markdown",
      "source": [
        "<h1 id=\"missings\" style=\"color:white;background:#0076a8;padding:8px;border-radius:8px\"> EDA </h1>"
      ],
      "metadata": {
        "execution": {
          "iopub.status.busy": "2022-03-23T02:49:49.874971Z",
          "iopub.execute_input": "2022-03-23T02:49:49.875277Z",
          "iopub.status.idle": "2022-03-23T02:49:49.880947Z",
          "shell.execute_reply.started": "2022-03-23T02:49:49.875248Z",
          "shell.execute_reply": "2022-03-23T02:49:49.88024Z"
        },
        "id": "fxqPXgBVWHze"
      }
    },
    {
      "cell_type": "markdown",
      "source": [
        "## 1. size and shape"
      ],
      "metadata": {
        "id": "ui1m6Ic8WHze"
      }
    },
    {
      "cell_type": "markdown",
      "source": [
        "train.shape, test.shape"
      ],
      "metadata": {
        "id": "k8apme4TWHzf"
      }
    },
    {
      "cell_type": "markdown",
      "source": [
        "## 2. Null vlaues"
      ],
      "metadata": {
        "id": "xMJx6OTqWHzf"
      }
    },
    {
      "cell_type": "markdown",
      "source": [
        "null_value = train.iloc[:,2:].isnull().sum()/train.shape[0]"
      ],
      "metadata": {
        "id": "lmi2tg78WHzf"
      }
    },
    {
      "cell_type": "markdown",
      "source": [
        "null_value.describe(percentiles=[0.1,.2,.3,.4,.5,.6,.7,.8,.9,0.95,1.0])"
      ],
      "metadata": {
        "id": "Ka1M0rknWHzf"
      }
    },
    {
      "cell_type": "markdown",
      "source": [
        "## 3. Categorical and Numeraic features"
      ],
      "metadata": {
        "id": "Os0E-H3GWHzg"
      }
    },
    {
      "cell_type": "code",
      "source": [
        "Categorical_Features=train.select_dtypes(include=['object']).columns\n",
        "Numeric_Features=train.select_dtypes(exclude=['object']).columns[2:]\n",
        "len(Categorical_Features), len(Numeric_Features)"
      ],
      "metadata": {
        "execution": {
          "iopub.status.busy": "2022-03-30T23:59:13.164331Z",
          "iopub.execute_input": "2022-03-30T23:59:13.164855Z",
          "iopub.status.idle": "2022-03-30T23:59:13.30909Z",
          "shell.execute_reply.started": "2022-03-30T23:59:13.164819Z",
          "shell.execute_reply": "2022-03-30T23:59:13.308291Z"
        },
        "trusted": true,
        "colab": {
          "base_uri": "https://localhost:8080/"
        },
        "id": "m8PQDDsSWHzg",
        "outputId": "2de4b3b3-758a-4e05-d2ba-881b178cc8d9"
      },
      "execution_count": 203,
      "outputs": [
        {
          "output_type": "execute_result",
          "data": {
            "text/plain": [
              "(92, 415)"
            ]
          },
          "metadata": {},
          "execution_count": 203
        }
      ]
    },
    {
      "cell_type": "markdown",
      "source": [
        "train[Categorical_Features].head(1).values"
      ],
      "metadata": {
        "id": "Cp06GhGMWHzg"
      }
    },
    {
      "cell_type": "markdown",
      "source": [
        "single_cnt_value = pd.Series()\n",
        "for i in Categorical_Features:\n",
        "    b = train[i].value_counts()\n",
        "    c = sum(b==1)\n",
        "    single_cnt_value[i] = c\n",
        "\n",
        "single_cnt_value.sort_values(ascending=False).values"
      ],
      "metadata": {
        "id": "Bms5gv98WHzh"
      }
    },
    {
      "cell_type": "markdown",
      "source": [
        "max_value = train[Numeric_Features].max(axis=0)\n",
        "max_value.describe(percentiles=list(np.arange(0,1.1,0.1)))"
      ],
      "metadata": {
        "id": "gosf9eMtWHzh"
      }
    },
    {
      "cell_type": "markdown",
      "source": [
        "## 4. Outlier"
      ],
      "metadata": {
        "id": "OMse83nNWHzh"
      }
    },
    {
      "cell_type": "markdown",
      "source": [
        "max_value.sort_values(na_position ='last', ascending=False)[:80].values"
      ],
      "metadata": {
        "id": "X7I1WefMWHzi"
      }
    },
    {
      "cell_type": "markdown",
      "source": [
        "## 5. Data skewness"
      ],
      "metadata": {
        "id": "pVgzv4EvWHzi"
      }
    },
    {
      "cell_type": "markdown",
      "source": [
        "skewness = pd.Series()\n",
        "for i in train.columns[2:]:\n",
        "    skewness[i] = train[i].value_counts().max()/train.shape[0]"
      ],
      "metadata": {
        "id": "uCMSBXNJWHzi"
      }
    },
    {
      "cell_type": "markdown",
      "source": [
        "skewness.hist()"
      ],
      "metadata": {
        "id": "RYuyYNapWHzj"
      }
    },
    {
      "cell_type": "markdown",
      "source": [
        "skewness.describe(percentiles=[.1,.2,.3,.4,.5,.6,.7,.8,.9,1.0])"
      ],
      "metadata": {
        "id": "PhoE7ZY6WHzj"
      }
    },
    {
      "cell_type": "markdown",
      "source": [
        "<h1 id=\"missings\" style=\"color:white;background:#0076a8;padding:8px;border-radius:8px\"> Feature engineering </h1>"
      ],
      "metadata": {
        "id": "4DwWSr8wWHzj"
      }
    },
    {
      "cell_type": "markdown",
      "source": [
        "# Define necessary function"
      ],
      "metadata": {
        "id": "E6xLnjzGWHzk"
      }
    },
    {
      "cell_type": "code",
      "source": [
        "feature_list_type = ['Categorical_Features','Numeric_Features']\n",
        "\n",
        "def update_feature():\n",
        "  \"as features deleted during preprocessing, updates list of feature types and inform what type and how many deleted\"\n",
        "  for i in feature_list_type:\n",
        "    temp = globals()[i]\n",
        "    globals()[i] = [j for j in temp if j in train.columns]\n",
        "    print (i, \"===  before : {}, after : {}\".format(len(temp),len(globals()[i])))\n",
        "\n",
        "def train_test(func, *args):\n",
        "  \"apply function to and transform both train and test set\"\n",
        "  print (\"before : \",train.shape, test.shape)\n",
        "  a = func(train,*args)\n",
        "  b = func(test,*args)\n",
        "  print (\"After : \",train.shape, test.shape)\n",
        "  return a,b\n"
      ],
      "metadata": {
        "execution": {
          "iopub.status.busy": "2022-03-30T23:59:15.51584Z",
          "iopub.execute_input": "2022-03-30T23:59:15.516136Z",
          "iopub.status.idle": "2022-03-30T23:59:15.525356Z",
          "shell.execute_reply.started": "2022-03-30T23:59:15.516096Z",
          "shell.execute_reply": "2022-03-30T23:59:15.524522Z"
        },
        "trusted": true,
        "id": "7TjtvaHCWHzk"
      },
      "execution_count": 204,
      "outputs": []
    },
    {
      "cell_type": "markdown",
      "source": [
        "# 1. Time Series Feature transformed to Time Series Categorical features"
      ],
      "metadata": {
        "id": "BlD0bCnTWHzk"
      }
    },
    {
      "cell_type": "code",
      "source": [
        "def finding_date_format_features(df, features):\n",
        "  \"to find any features indicative of date format\"\n",
        "  match_str = '(\\d{2,4}(-|\\/|\\\\|\\.| )\\d{2}(-|\\/|\\\\|\\.|)\\d{2,4})+'\n",
        "  temp = df[features].astype(str).apply(lambda x : x.str.match(match_str).any())\n",
        "  return Categorical_Features[temp]\n",
        "\n",
        "def date_split(df, features):\n",
        "  \"\"\"transform date feature in objevtive format to date-format and split date-features into year month week day respectively\n",
        "  and delete orifinal feature\"\"\"\n",
        "  for col in features:\n",
        "    df[col] = pd.to_datetime(df[col])\n",
        "    df[col+\"_year\"]=pd.DatetimeIndex(df[col]).year\n",
        "    df[col+\"_month\"]=pd.DatetimeIndex(df[col]).month\n",
        "    df[col+\"_week\"]=pd.DatetimeIndex(df[col]).week\n",
        "    df[col+\"_day\"]=pd.DatetimeIndex(df[col]).day\n",
        "    df.drop(col,axis=1, inplace = True)\n",
        "  return df"
      ],
      "metadata": {
        "id": "5j4g303o-j5o"
      },
      "execution_count": 205,
      "outputs": []
    },
    {
      "cell_type": "markdown",
      "source": [
        "mask = train[Categorical_Features].astype(str).apply(lambda x : x.str.match('(\\d{2,4}(-|\\/|\\\\|\\.| )\\d{2}(-|\\/|\\\\|\\.| )\\d{2,4})+').any())\n",
        "datetime_Features=train[Categorical_Features].loc[:,mask]\n",
        "train[datetime_Features.columns]= train[datetime_Features.columns].apply(pd.to_datetime,dayfirst=False)\n",
        "test[datetime_Features.columns]= test[datetime_Features.columns].apply(pd.to_datetime,dayfirst=False)\n",
        "datetime_tmp=train.select_dtypes(include=['datetime'])\n",
        "for col in datetime_tmp.columns:\n",
        "    train[col+\"_year\"]=pd.DatetimeIndex(train[col]).year\n",
        "    train[col+\"_month\"]=pd.DatetimeIndex(train[col]).month\n",
        "    train[col+\"_week\"]=pd.DatetimeIndex(train[col]).week\n",
        "    train[col+\"_day\"]=pd.DatetimeIndex(train[col]).day\n",
        "    test[col+\"_year\"]=pd.DatetimeIndex(test[col]).year\n",
        "    test[col+\"_month\"]=pd.DatetimeIndex(test[col]).month\n",
        "    test[col+\"_week\"]=pd.DatetimeIndex(test[col]).week\n",
        "    test[col+\"_day\"]=pd.DatetimeIndex(test[col]).day\n",
        "train.drop(list(datetime_tmp.columns),axis=1,inplace=True)\n",
        "test.drop(list(datetime_tmp.columns),axis=1,inplace=True)"
      ],
      "metadata": {
        "id": "XemVQOJpjMxZ"
      }
    },
    {
      "cell_type": "code",
      "source": [
        "datetime_Features = finding_date_format_features(train, Categorical_Features)\n",
        "train, test = train_test(date_split, datetime_Features)\n",
        "\n",
        "rex = re.compile(\".*year|.*month|.*week|.*day\")\n",
        "Categorical_Features_TimeSeries = list(filter(rex.findall, train.columns))\n",
        "Categorical_Features = [i for i in Categorical_Features if i not in Categorical_Features_TimeSeries]\n",
        "feature_list_type.append('Categorical_Features_TimeSeries')\n",
        "update_feature()"
      ],
      "metadata": {
        "colab": {
          "base_uri": "https://localhost:8080/"
        },
        "id": "FrMvM9ULj8Ak",
        "outputId": "c94b09b1-f296-4bff-8c23-1c419f438be9"
      },
      "execution_count": 206,
      "outputs": [
        {
          "output_type": "stream",
          "name": "stdout",
          "text": [
            "before :  (70000, 509) (30000, 508)\n",
            "After :  (70000, 539) (30000, 538)\n",
            "Categorical_Features ===  before : 92, after : 82\n",
            "Numeric_Features ===  before : 415, after : 415\n",
            "Categorical_Features_TimeSeries ===  before : 40, after : 40\n"
          ]
        }
      ]
    },
    {
      "cell_type": "markdown",
      "source": [
        "# 2. Categorical Feature to numeric form"
      ],
      "metadata": {
        "execution": {
          "iopub.status.busy": "2022-03-26T12:08:38.594446Z",
          "iopub.execute_input": "2022-03-26T12:08:38.595152Z",
          "iopub.status.idle": "2022-03-26T12:08:38.600809Z",
          "shell.execute_reply.started": "2022-03-26T12:08:38.595096Z",
          "shell.execute_reply": "2022-03-26T12:08:38.599715Z"
        },
        "id": "2J_5lPlXWHzm"
      }
    },
    {
      "cell_type": "markdown",
      "source": [
        "train[Categorical_Features].head(1).values"
      ],
      "metadata": {
        "id": "FK-R_7ITWHzm"
      }
    },
    {
      "cell_type": "code",
      "source": [
        "def removing_string_in_categorical_features(df, features):\n",
        "  \"remove character 'c' in categorical features to transform it in numeraic type\"\n",
        "  df[features] = df[features].apply(lambda x : x.str.replace(\"C\",'')).astype(int)\n",
        "  return df\n",
        "\n",
        "train, test = train_test(removing_string_in_categorical_features, Categorical_Features)"
      ],
      "metadata": {
        "colab": {
          "base_uri": "https://localhost:8080/"
        },
        "id": "hMpiWiNNzX0d",
        "outputId": "86d31b5b-097d-43b1-9f38-527acba99a54"
      },
      "execution_count": 207,
      "outputs": [
        {
          "output_type": "stream",
          "name": "stdout",
          "text": [
            "before :  (70000, 539) (30000, 538)\n",
            "After :  (70000, 539) (30000, 538)\n"
          ]
        }
      ]
    },
    {
      "cell_type": "markdown",
      "source": [
        "train[Categorical_Features].head(1).values"
      ],
      "metadata": {
        "id": "MU3ZzKPEWHzn"
      }
    },
    {
      "cell_type": "markdown",
      "source": [
        "# 3. Numeric feature to Caregorical feature"
      ],
      "metadata": {
        "execution": {
          "iopub.status.busy": "2022-03-29T03:27:41.649663Z",
          "iopub.execute_input": "2022-03-29T03:27:41.649972Z",
          "iopub.status.idle": "2022-03-29T03:27:41.654034Z",
          "shell.execute_reply.started": "2022-03-29T03:27:41.649938Z",
          "shell.execute_reply": "2022-03-29T03:27:41.653038Z"
        },
        "id": "xt7_DAEPWHzo"
      }
    },
    {
      "cell_type": "code",
      "source": [
        "nunique_by_feature = pd.Series()\n",
        "for i in Numeric_Features:\n",
        "    nunique_by_feature[i] = train[i].nunique()\n",
        "\n",
        "nunique_by_feature = nunique_by_feature.sort_values()"
      ],
      "metadata": {
        "execution": {
          "iopub.status.busy": "2022-03-30T23:59:28.818343Z",
          "iopub.execute_input": "2022-03-30T23:59:28.819074Z",
          "iopub.status.idle": "2022-03-30T23:59:29.409588Z",
          "shell.execute_reply.started": "2022-03-30T23:59:28.819037Z",
          "shell.execute_reply": "2022-03-30T23:59:29.408788Z"
        },
        "trusted": true,
        "id": "c-nPUpjvWHzp"
      },
      "execution_count": 214,
      "outputs": []
    },
    {
      "cell_type": "code",
      "source": [
        "nunique_limit = 100"
      ],
      "metadata": {
        "id": "j-0StKMVQmux"
      },
      "execution_count": 215,
      "outputs": []
    },
    {
      "cell_type": "markdown",
      "source": [
        "nunique_by_feature.describe(percentiles=[0,.1,.2,.3,.4,.5,.6,.7,.8,.9,1.0])"
      ],
      "metadata": {
        "id": "veASxP6YWHzp"
      }
    },
    {
      "cell_type": "code",
      "source": [
        "Categorical_Features_in_NumericFeatureList = nunique_by_feature[nunique_by_feature<nunique_limit].index.tolist()\n",
        "Categorical_Features += Categorical_Features_in_NumericFeatureList\n",
        "Numeric_Features = [i for i in Numeric_Features if i not in Categorical_Features_in_NumericFeatureList]\n",
        "\n",
        "update_feature()"
      ],
      "metadata": {
        "execution": {
          "iopub.status.busy": "2022-03-30T23:59:29.421458Z",
          "iopub.execute_input": "2022-03-30T23:59:29.422528Z",
          "iopub.status.idle": "2022-03-30T23:59:29.435958Z",
          "shell.execute_reply.started": "2022-03-30T23:59:29.422495Z",
          "shell.execute_reply": "2022-03-30T23:59:29.434953Z"
        },
        "trusted": true,
        "colab": {
          "base_uri": "https://localhost:8080/"
        },
        "id": "s99mjz_eWHzp",
        "outputId": "a7479811-77dc-4f3d-d127-9e0f9500ea0e"
      },
      "execution_count": 216,
      "outputs": [
        {
          "output_type": "stream",
          "name": "stdout",
          "text": [
            "Categorical_Features ===  before : 373, after : 373\n",
            "Numeric_Features ===  before : 124, after : 124\n",
            "Categorical_Features_TimeSeries ===  before : 40, after : 40\n"
          ]
        }
      ]
    },
    {
      "cell_type": "markdown",
      "source": [
        "# 4. Non necessary feature deletion"
      ],
      "metadata": {
        "id": "tDi5AWLIWHzq"
      }
    },
    {
      "cell_type": "markdown",
      "source": [
        "### Single value / All null value feature - Mandatory"
      ],
      "metadata": {
        "id": "vEfLgIpAWHzq"
      }
    },
    {
      "cell_type": "code",
      "source": [
        "nunique_cnt = pd.Series()\n",
        "for i in train.columns[2:]:\n",
        "    nunique_cnt[i] = train[i].nunique()\n",
        "\n",
        "Single_Null_Count_Feature = nunique_cnt[nunique_cnt<2].index\n",
        "\n",
        "train.drop(Single_Null_Count_Feature, axis =1, inplace=True)\n",
        "test.drop(Single_Null_Count_Feature, axis =1, inplace=True)\n",
        "\n",
        "print (len(Single_Null_Count_Feature),' features are delted')\n",
        "update_feature()"
      ],
      "metadata": {
        "execution": {
          "iopub.status.busy": "2022-03-30T23:59:29.43903Z",
          "iopub.execute_input": "2022-03-30T23:59:29.439514Z",
          "iopub.status.idle": "2022-03-30T23:59:30.278929Z",
          "shell.execute_reply.started": "2022-03-30T23:59:29.439471Z",
          "shell.execute_reply": "2022-03-30T23:59:30.278051Z"
        },
        "trusted": true,
        "colab": {
          "base_uri": "https://localhost:8080/"
        },
        "id": "sIp7YxdwWHzq",
        "outputId": "38efe1d4-50d7-456b-f9ed-a9a0a78e8d16"
      },
      "execution_count": 218,
      "outputs": [
        {
          "output_type": "stream",
          "name": "stdout",
          "text": [
            "63  features are delted\n",
            "Categorical_Features ===  before : 373, after : 310\n",
            "Numeric_Features ===  before : 124, after : 124\n",
            "Categorical_Features_TimeSeries ===  before : 40, after : 40\n"
          ]
        }
      ]
    },
    {
      "cell_type": "markdown",
      "source": [
        "### Null value portion - cutoff optional"
      ],
      "metadata": {
        "id": "-S7FN6fDWHzr"
      }
    },
    {
      "cell_type": "markdown",
      "source": [
        "null_cnt = train.isnull().sum()/train.shape[0]\n",
        "null_cnt.describe(percentiles=[0,.1,.2,.3,.4,.5,.6,.7,.8,.9,1.0])"
      ],
      "metadata": {
        "id": "NzOOwHtUWHzr"
      }
    },
    {
      "cell_type": "code",
      "source": [
        "null_portion_cut_off = 0.2\n",
        "\n",
        "Feature_With_High_Null_Portion = null_cnt[null_cnt>null_portion_cut_off].index\n",
        "train.drop(Feature_With_High_Null_Portion, axis=1, inplace = True)\n",
        "test.drop(Feature_With_High_Null_Portion, axis=1, inplace = True)\n",
        "\n",
        "print (sum(null_cnt>null_portion_cut_off),\" feature are deleted due to null value portion over 20%\")\n",
        "update_feature()"
      ],
      "metadata": {
        "execution": {
          "iopub.status.busy": "2022-03-30T23:59:30.343816Z",
          "iopub.execute_input": "2022-03-30T23:59:30.344015Z",
          "iopub.status.idle": "2022-03-30T23:59:30.348277Z",
          "shell.execute_reply.started": "2022-03-30T23:59:30.343992Z",
          "shell.execute_reply": "2022-03-30T23:59:30.347423Z"
        },
        "trusted": true,
        "id": "-0cY3wqVWHzs"
      },
      "execution_count": 220,
      "outputs": []
    },
    {
      "cell_type": "markdown",
      "source": [
        "##### Few features can be maintained and used in impuation stage"
      ],
      "metadata": {
        "id": "vfmX7bAJWHzs"
      }
    },
    {
      "cell_type": "markdown",
      "source": [
        "### Feature dominated by single value out of Numeric Features"
      ],
      "metadata": {
        "id": "l4aLcjogWHzs"
      }
    },
    {
      "cell_type": "markdown",
      "source": [
        "single_val_cnt = pd.Series()\n",
        "for i in train[Numeric_Features]:\n",
        "    a = train[i].value_counts().max()\n",
        "    single_val_cnt[i] = a/train.shape[0]"
      ],
      "metadata": {
        "id": "LN7DJVcnWHzs"
      }
    },
    {
      "cell_type": "markdown",
      "source": [
        "single_val_cnt.describe(percentiles=[0,.1,.2,.3,.4,.5,.6,.7,.8,.9,1.0])"
      ],
      "metadata": {
        "id": "cM9m-0tjWHzt"
      }
    },
    {
      "cell_type": "markdown",
      "source": [
        "single_val_cnt_cut_off = 0.7\n",
        "print (sum(single_val_cnt>single_val_cnt_cut_off), \" features are deleted dut to high dominance by single value\")\n",
        "\n",
        "drop_list_single_val_cnt = single_val_cnt[single_val_cnt > single_val_cnt_cut_off].index\n",
        "\n",
        "train.drop(drop_list_single_val_cnt, axis=1, inplace = True)\n",
        "test.drop(drop_list_single_val_cnt, axis=1, inplace = True)\n",
        "update_feature()"
      ],
      "metadata": {
        "id": "dE2ZTAzTWHzt"
      }
    },
    {
      "cell_type": "markdown",
      "source": [
        "##### Features dominated by signle value can be considered as sparse matrix"
      ],
      "metadata": {
        "id": "eAN9stp2WHzt"
      }
    },
    {
      "cell_type": "markdown",
      "source": [
        "### High Cardinalty - cutoff optional for Categorical features"
      ],
      "metadata": {
        "id": "G0Sa8ujvWHzt"
      }
    },
    {
      "cell_type": "markdown",
      "source": [
        "high_car = pd.Series()\n",
        "for i in Categorical_Features+Categorical_Features_TimeSeries:\n",
        "    b = train[i].value_counts()\n",
        "    high_car[i] = sum(b[b==1])"
      ],
      "metadata": {
        "id": "Eze0i5BnWHzt"
      }
    },
    {
      "cell_type": "markdown",
      "source": [
        "high_car.sort_values(ascending=False)"
      ],
      "metadata": {
        "id": "vsd5rCYdWHzt"
      }
    },
    {
      "cell_type": "markdown",
      "source": [
        "##### This can be processed as NAN and imputed in the imputation stage or processed as single categoru"
      ],
      "metadata": {
        "execution": {
          "iopub.status.busy": "2022-03-28T10:26:09.221024Z",
          "iopub.execute_input": "2022-03-28T10:26:09.221377Z",
          "iopub.status.idle": "2022-03-28T10:26:09.233533Z",
          "shell.execute_reply.started": "2022-03-28T10:26:09.221343Z",
          "shell.execute_reply": "2022-03-28T10:26:09.232825Z"
        },
        "id": "qdWMwVcfWHzu"
      }
    },
    {
      "cell_type": "markdown",
      "source": [
        "### Chi-Square Test of independence for categorical features"
      ],
      "metadata": {
        "execution": {
          "iopub.status.busy": "2022-03-26T00:25:40.708828Z",
          "iopub.execute_input": "2022-03-26T00:25:40.709135Z",
          "iopub.status.idle": "2022-03-26T00:25:40.71486Z",
          "shell.execute_reply.started": "2022-03-26T00:25:40.709101Z",
          "shell.execute_reply": "2022-03-26T00:25:40.714039Z"
        },
        "id": "7YY3_YSsWHzu"
      }
    },
    {
      "cell_type": "code",
      "source": [
        "train_idx = train[['id','target']]\n",
        "train.drop(['id','target'], axis=1, inplace = True)\n",
        "test_idx = test[['id']]\n",
        "test.drop(['id'], axis=1, inplace = True)"
      ],
      "metadata": {
        "id": "TwE-fHW9uDiE"
      },
      "execution_count": 224,
      "outputs": []
    },
    {
      "cell_type": "code",
      "source": [
        "def chi2_check(df, features, alpha = 0.05):\n",
        "  fail_to_meet_chi2 = pd.Series()\n",
        "  for i in features:\n",
        "    ch_score = chi2_contingency(pd.crosstab(train_idx['target'], train[i]))[1]\n",
        "    if ch_score >= alpha:\n",
        "      fail_to_meet_chi2[i] = ch_score\n",
        "  \n",
        "  return fail_to_meet_chi2"
      ],
      "metadata": {
        "id": "e_OyMLuYtbJd"
      },
      "execution_count": 225,
      "outputs": []
    },
    {
      "cell_type": "code",
      "source": [
        "high_ch2_score = chi2_check(train, Categorical_Features+Categorical_Features_TimeSeries, 0.05)\n",
        "Features_not_met_ch2 = high_ch2_score.index\n",
        "\n",
        "train.drop(Features_not_met_ch2, axis=1, inplace= True)\n",
        "test.drop(Features_not_met_ch2, axis=1, inplace= True)\n",
        "print (len(Features_not_met_ch2), \" features are deleted dut to low ch2 score\")\n",
        "\n",
        "update_feature()"
      ],
      "metadata": {
        "id": "ZTtUuMjrvLVW"
      },
      "execution_count": 228,
      "outputs": []
    },
    {
      "cell_type": "markdown",
      "source": [
        "# 5. Outlier"
      ],
      "metadata": {
        "id": "aw9uMXhCWHzu"
      }
    },
    {
      "cell_type": "markdown",
      "source": [
        "# 5.5 Scaling"
      ],
      "metadata": {
        "id": "YlTjNchtWHzu"
      }
    },
    {
      "cell_type": "code",
      "source": [
        "scaler = MinMaxScaler()\n",
        "scaler.fit(train)\n",
        "train_scaled = scaler.transform(train)\n",
        "test_scaled = scaler.transform(test)"
      ],
      "metadata": {
        "execution": {
          "iopub.status.busy": "2022-03-31T00:00:34.46926Z",
          "iopub.execute_input": "2022-03-31T00:00:34.46953Z",
          "iopub.status.idle": "2022-03-31T00:00:35.071685Z",
          "shell.execute_reply.started": "2022-03-31T00:00:34.469502Z",
          "shell.execute_reply": "2022-03-31T00:00:35.0708Z"
        },
        "trusted": true,
        "id": "04xFJuAbWHzv"
      },
      "execution_count": 20,
      "outputs": []
    },
    {
      "cell_type": "code",
      "source": [
        "train = pd.DataFrame(data=train_scaled, columns = train.columns)\n",
        "test = pd.DataFrame(data=test_scaled, columns = train.columns)"
      ],
      "metadata": {
        "execution": {
          "iopub.status.busy": "2022-03-31T00:00:36.365189Z",
          "iopub.execute_input": "2022-03-31T00:00:36.365493Z",
          "iopub.status.idle": "2022-03-31T00:00:36.371911Z",
          "shell.execute_reply.started": "2022-03-31T00:00:36.365463Z",
          "shell.execute_reply": "2022-03-31T00:00:36.371278Z"
        },
        "trusted": true,
        "id": "qbzpfH3oWHzv"
      },
      "execution_count": 21,
      "outputs": []
    },
    {
      "cell_type": "markdown",
      "source": [
        "# 6. Missing values\n",
        "* mode and mean\n",
        "* knn\n",
        "* MICE"
      ],
      "metadata": {
        "id": "kxr_CgQlWHzv"
      }
    },
    {
      "cell_type": "markdown",
      "source": [
        "### Null value count"
      ],
      "metadata": {
        "id": "W7MsjiKOWHzv"
      }
    },
    {
      "cell_type": "code",
      "source": [
        "Null_val_cnt = train.isnull().sum()/train.shape[0]\n",
        "Null_val_cnt.sort_values(ascending=False)"
      ],
      "metadata": {
        "id": "uRYzOZRCWHzv",
        "colab": {
          "base_uri": "https://localhost:8080/"
        },
        "outputId": "e000d03d-3118-4331-9d2b-8a80689e3a90"
      },
      "execution_count": 222,
      "outputs": [
        {
          "output_type": "execute_result",
          "data": {
            "text/plain": [
              "feature_200_month    0.184514\n",
              "feature_200_year     0.184514\n",
              "feature_200_day      0.184514\n",
              "feature_200_week     0.184514\n",
              "feature_206          0.027671\n",
              "                       ...   \n",
              "feature_217          0.000000\n",
              "feature_216          0.000000\n",
              "feature_215          0.000000\n",
              "feature_214          0.000000\n",
              "id                   0.000000\n",
              "Length: 438, dtype: float64"
            ]
          },
          "metadata": {},
          "execution_count": 222
        }
      ]
    },
    {
      "cell_type": "markdown",
      "source": [
        "### Imputation -mean and mode"
      ],
      "metadata": {
        "id": "LtL1c1CmWHzv"
      }
    },
    {
      "cell_type": "code",
      "source": [
        "for col in Numeric_Features:\n",
        "    train[col].fillna(train[col].median(),inplace=True)\n",
        "    test[col].fillna(test[col].median(),inplace=True)"
      ],
      "metadata": {
        "id": "rqLzL_elWHzv"
      },
      "execution_count": null,
      "outputs": []
    },
    {
      "cell_type": "code",
      "source": [
        "for col in Categorical_Features+Categorical_Features_TimeSeries:\n",
        "    train[col].fillna(train[col].mode()[0],inplace=True)\n",
        "    test[col].fillna(test[col].mode()[0],inplace=True)"
      ],
      "metadata": {
        "id": "JuW5KNubWHzv"
      },
      "execution_count": null,
      "outputs": []
    },
    {
      "cell_type": "markdown",
      "source": [
        "### Imputation - MICE"
      ],
      "metadata": {
        "id": "tr_KcXn5WHzv"
      }
    },
    {
      "cell_type": "code",
      "source": [
        "train['type'] = 'train'\n",
        "test['type'] = 'test'\n",
        "df = pd.concat([train,test])\n",
        "col_type = df[['type']]\n",
        "df.drop(['type'],axis=1, inplace = True)"
      ],
      "metadata": {
        "execution": {
          "iopub.status.busy": "2022-03-31T00:01:16.190042Z",
          "iopub.execute_input": "2022-03-31T00:01:16.190365Z",
          "iopub.status.idle": "2022-03-31T00:01:16.450354Z",
          "shell.execute_reply.started": "2022-03-31T00:01:16.190329Z",
          "shell.execute_reply": "2022-03-31T00:01:16.449669Z"
        },
        "trusted": true,
        "id": "ouhgny4aWHzw"
      },
      "execution_count": null,
      "outputs": []
    },
    {
      "cell_type": "code",
      "source": [
        "lr_impute = LinearRegression()\n",
        "imp = IterativeImputer(estimator = lr_impute)\n",
        "%%time\n",
        "imp.fit(df)\n",
        "%%time\n",
        "transformed = imp.transform(df)\n",
        "\n",
        "df_mice = pd.DataFrame(transformed, index = df.index, columns = df.columns)\n",
        "#df_mice.to_csv('./gdrive/MyDrive/Colab Notebooks/netflix_mice_intermediate.csv')\n",
        "#df_mice = pd.read_csv('./gdrive/MyDrive/Colab Notebooks/netflix_mice_intermediate.csv', index = 'Unnamed: 0')\n",
        "#df_mice.set_index(\"Unnamed: 0\", inplace=True)\n",
        "#df_mice.index.name = None\n",
        "#train['type'] = 'train'\n",
        "#test['type'] = 'test'\n",
        "#col_type = pd.concat([train[['type']],test[['type']]])\n",
        "\n",
        "df_mice['type'] = col_type\n",
        "train = df_mice[df_mice.type=='train']\n",
        "test = df_mice[df_mice.type=='test']\n",
        "#Null_val_cnt = train.isnull().sum()/train.shape[0]\n",
        "#Null_val_cnt.sort_values(ascending=False)\n",
        "train.drop(['type'], axis=1, inplace=True)\n",
        "test.drop(['type'], axis=1, inplace=True)"
      ],
      "metadata": {
        "execution": {
          "iopub.status.busy": "2022-03-31T00:01:17.668103Z",
          "iopub.execute_input": "2022-03-31T00:01:17.668559Z",
          "iopub.status.idle": "2022-03-31T00:01:17.671937Z",
          "shell.execute_reply.started": "2022-03-31T00:01:17.668512Z",
          "shell.execute_reply": "2022-03-31T00:01:17.671051Z"
        },
        "trusted": true,
        "id": "AeIgbTt0WHzw"
      },
      "execution_count": null,
      "outputs": []
    },
    {
      "cell_type": "code",
      "source": [
        "min_cols = list(train.columns)\n",
        "min_cols.remove('type')"
      ],
      "metadata": {
        "id": "8yxHcvKu3wYG"
      },
      "execution_count": 73,
      "outputs": []
    },
    {
      "cell_type": "code",
      "source": [
        "test = df[df.type=='test'][min_cols]\n",
        "train = df[df.type=='train'][min_cols]"
      ],
      "metadata": {
        "id": "pphUadHr3hFc"
      },
      "execution_count": 77,
      "outputs": []
    },
    {
      "cell_type": "markdown",
      "source": [
        "#### KNN\n",
        "train['type'] = 'train'\n",
        "test['type'] = 'test'\n",
        "df = pd.concat([train,test])\n",
        "idx_target_type = df[['id','target','type']]\n",
        "df.drop(['id','target','type'],axis=1, inplace = True)\n",
        "\n",
        "\n",
        "imputer = KNNImputer(n_neighbors=10)\n",
        "df_imputer = imputer.fit_transform(df)\n",
        "\n",
        "df2 = pd.DataFrame(df_imputer, columns = df.columns)\n",
        "idx_target_type.reset_index(drop=True, inplace=True)\n",
        "df3 = pd.concat([idx_target_type,df2], axis=1)\n",
        "df3.to_csv('/kaggle/working/netflix2.csv')\n",
        "df3 = pd.read_csv('/kaggle/input/lms-jw/netflix2.csv')\n",
        "df3.drop(['Unnamed: 0'], axis=1, inplace=True)\n",
        "train_c = df3[df3['type']=='train']\n",
        "test_c = df3[df3['type']=='test']\n",
        "train_c.drop(['type'], axis=1, inplace = True)\n",
        "train_c.reset_index(drop=True, inplace=True)\n",
        "test_c.drop(['type'], axis=1,inplace=True)\n",
        "test_c.reset_index(drop=True, inplace=True)\n",
        "train_c['target'] = train2['target'].astype(int)\n",
        "test_c.drop(['target'], axis=1, inplace = True)"
      ],
      "metadata": {
        "execution": {
          "iopub.status.busy": "2022-03-25T11:00:07.312858Z",
          "iopub.execute_input": "2022-03-25T11:00:07.314743Z",
          "iopub.status.idle": "2022-03-25T11:00:07.599107Z",
          "shell.execute_reply.started": "2022-03-25T11:00:07.314629Z",
          "shell.execute_reply": "2022-03-25T11:00:07.597906Z"
        },
        "id": "eBCD914ZWHzw"
      }
    },
    {
      "cell_type": "markdown",
      "source": [
        "## Imputation - mean and mode by group"
      ],
      "metadata": {
        "id": "5mrJlEtz8yFn"
      }
    },
    {
      "cell_type": "code",
      "source": [
        ""
      ],
      "metadata": {
        "id": "BpNsbYYQ84s3"
      },
      "execution_count": null,
      "outputs": []
    },
    {
      "cell_type": "code",
      "source": [
        ""
      ],
      "metadata": {
        "id": "8vXLa9risOyB"
      },
      "execution_count": null,
      "outputs": []
    },
    {
      "cell_type": "code",
      "source": [
        ""
      ],
      "metadata": {
        "id": "TACbMoZssO2u"
      },
      "execution_count": null,
      "outputs": []
    },
    {
      "cell_type": "code",
      "source": [
        ""
      ],
      "metadata": {
        "id": "vYlURRmcsO5u"
      },
      "execution_count": null,
      "outputs": []
    },
    {
      "cell_type": "markdown",
      "source": [
        "# 7. Correlations"
      ],
      "metadata": {
        "id": "7RzqsOtyWHzw"
      }
    },
    {
      "cell_type": "markdown",
      "source": [
        "### Correlation between numeric features and the target"
      ],
      "metadata": {
        "id": "ioRda5fGWHzw"
      }
    },
    {
      "cell_type": "code",
      "source": [
        "corr_df=train.iloc[:,2:].corrwith(train_idx['target']).abs().sort_values(ascending=False)"
      ],
      "metadata": {
        "execution": {
          "iopub.status.busy": "2022-03-29T03:51:32.893012Z",
          "iopub.execute_input": "2022-03-29T03:51:32.893446Z",
          "iopub.status.idle": "2022-03-29T03:51:33.268436Z",
          "shell.execute_reply.started": "2022-03-29T03:51:32.893415Z",
          "shell.execute_reply": "2022-03-29T03:51:33.267741Z"
        },
        "trusted": true,
        "id": "I-xXXywBWHzw"
      },
      "execution_count": 24,
      "outputs": []
    },
    {
      "cell_type": "markdown",
      "source": [
        "plt.figure(figsize=(10,10))\n",
        "print (sum(corr_df>0.08))\n",
        "sns.barplot(x=corr_df[corr_df>0.08],y=corr_df[corr_df>0.08].index).set_title('Correlation between numeric features and target')\n",
        "plt.xlabel('Correlation')"
      ],
      "metadata": {
        "id": "3fONngV3WHzw"
      }
    },
    {
      "cell_type": "markdown",
      "source": [
        "### Distribution "
      ],
      "metadata": {
        "id": "p7W_44kdWHzx"
      }
    },
    {
      "cell_type": "markdown",
      "source": [
        "plt.figure(figsize=(10,5))\n",
        "plt.xlabel('Correlation with target')\n",
        "plt.ylabel('The number of numeric features')\n",
        "sns.histplot(corr_df).set_title('Distribution of numeric features in terms of correlation with the target',size=15)\n",
        "plt.show()"
      ],
      "metadata": {
        "id": "gyUktai0WHzx"
      }
    },
    {
      "cell_type": "markdown",
      "source": [
        "### Features with low correlation"
      ],
      "metadata": {
        "id": "-Ey1XhUQWHzx"
      }
    },
    {
      "cell_type": "markdown",
      "source": [
        "corr_df.describe(percentiles=[0,.1,.2,.3,.4,.5,.6,.7,.8,.9,1.0])"
      ],
      "metadata": {
        "id": "HTJZFvqVWHzx"
      }
    },
    {
      "cell_type": "code",
      "source": [
        "corr_cut_off = 0.1\n",
        "\n",
        "low_corr=corr_df[corr_df<corr_cut_off].index\n",
        "train.drop(low_corr, axis=1, inplace = True)\n",
        "test.drop(low_corr, axis=1, inplace = True)\n",
        "print (len(low_corr), \"features are deleted due to low correlation with target\")\n",
        "update_feature()"
      ],
      "metadata": {
        "execution": {
          "iopub.status.busy": "2022-03-29T03:55:03.092951Z",
          "iopub.execute_input": "2022-03-29T03:55:03.093343Z",
          "iopub.status.idle": "2022-03-29T03:55:03.121023Z",
          "shell.execute_reply.started": "2022-03-29T03:55:03.093304Z",
          "shell.execute_reply": "2022-03-29T03:55:03.119978Z"
        },
        "trusted": true,
        "colab": {
          "base_uri": "https://localhost:8080/"
        },
        "id": "YLMkbOb9WHzx",
        "outputId": "6fdaae50-c885-4843-ebb6-6d0417a466fb"
      },
      "execution_count": 25,
      "outputs": [
        {
          "output_type": "stream",
          "name": "stdout",
          "text": [
            "337 features are deleted due to low correlation with target\n",
            "Categorical_Features ===  before : 242, after : 28\n",
            "Numeric_Features ===  before : 110, after : 2\n",
            "Categorical_Features_TimeSeries ===  before : 18, after : 3\n"
          ]
        }
      ]
    },
    {
      "cell_type": "markdown",
      "source": [
        "## dealing with multicolinearity"
      ],
      "metadata": {
        "id": "zNkAYcoGWHzx"
      }
    },
    {
      "cell_type": "code",
      "source": [
        "corr_thresh = 0.9"
      ],
      "metadata": {
        "execution": {
          "iopub.status.busy": "2022-03-29T03:57:26.567229Z",
          "iopub.execute_input": "2022-03-29T03:57:26.56787Z",
          "iopub.status.idle": "2022-03-29T03:57:26.572111Z",
          "shell.execute_reply.started": "2022-03-29T03:57:26.567819Z",
          "shell.execute_reply": "2022-03-29T03:57:26.571491Z"
        },
        "trusted": true,
        "id": "zphZWzU6WHzx"
      },
      "execution_count": 26,
      "outputs": []
    },
    {
      "cell_type": "code",
      "source": [
        "def get_highly_correlated(df,threshold=0.5):\n",
        "    corr_df = df.corr() # get correlations\n",
        "    correlated_features = np.where(np.abs(corr_df) > threshold) # select ones above the abs threshold\n",
        "    correlated_features = [(corr_df.iloc[x,y], x, y) for x, y in zip(*correlated_features) if x != y and x < y] # avoid duplication\n",
        "    s_corr_list = sorted(correlated_features, key=lambda x: -abs(x[0])) # sort by correlation value\n",
        "    if s_corr_list == []:\n",
        "        print(\"There are no highly correlated features with correlation above\", threshold)\n",
        "    else:\n",
        "        col1,col2,col3=list(),list(),list()\n",
        "        for v, i, j in s_corr_list:\n",
        "            col1.append(corr_df.index[i])\n",
        "            col2.append(corr_df.columns[j])\n",
        "            col3.append(v)\n",
        "        col_list=[col1,col2,col3]\n",
        "        return pd.DataFrame(col_list, index=['F1', 'F2','Correlation']).T.sort_values(by='Correlation',ascending=False)\n",
        "\n",
        "F_corr_df= get_highly_correlated(train,threshold=corr_thresh)\n",
        "\n",
        "high_multicolinearity = list(set(F_corr_df.F1.tolist()))\n",
        "\n",
        "train.drop(high_multicolinearity, axis=1, inplace=True)\n",
        "test.drop(high_multicolinearity, axis=1, inplace=True)\n",
        "print (len(F_corr_df), ' feature are deleted due to multicolinearity')"
      ],
      "metadata": {
        "execution": {
          "iopub.status.busy": "2022-03-29T04:03:54.539777Z",
          "iopub.execute_input": "2022-03-29T04:03:54.540191Z",
          "iopub.status.idle": "2022-03-29T04:03:54.793487Z",
          "shell.execute_reply.started": "2022-03-29T04:03:54.54016Z",
          "shell.execute_reply": "2022-03-29T04:03:54.792836Z"
        },
        "trusted": true,
        "id": "rIW_O-s3WHzx",
        "colab": {
          "base_uri": "https://localhost:8080/"
        },
        "outputId": "81c17511-b7d2-4624-cebb-59aaed6338bd"
      },
      "execution_count": 27,
      "outputs": [
        {
          "output_type": "stream",
          "name": "stdout",
          "text": [
            "12  feature are deleted due to multicolinearity\n"
          ]
        }
      ]
    },
    {
      "cell_type": "code",
      "source": [
        "update_feature()"
      ],
      "metadata": {
        "execution": {
          "iopub.status.busy": "2022-03-29T04:04:09.984968Z",
          "iopub.execute_input": "2022-03-29T04:04:09.985538Z",
          "iopub.status.idle": "2022-03-29T04:04:09.990561Z",
          "shell.execute_reply.started": "2022-03-29T04:04:09.985502Z",
          "shell.execute_reply": "2022-03-29T04:04:09.989915Z"
        },
        "trusted": true,
        "id": "6QkOGs-OWHzx",
        "colab": {
          "base_uri": "https://localhost:8080/"
        },
        "outputId": "87aac682-6c3e-41db-9fe0-e6c61afcd5f0"
      },
      "execution_count": 28,
      "outputs": [
        {
          "output_type": "stream",
          "name": "stdout",
          "text": [
            "Categorical_Features ===  before : 28, after : 19\n",
            "Numeric_Features ===  before : 2, after : 1\n",
            "Categorical_Features_TimeSeries ===  before : 3, after : 3\n"
          ]
        }
      ]
    },
    {
      "cell_type": "markdown",
      "source": [
        "<h1 id=\"encode\" style=\"color:white;background:#0076a8;padding:8px;border-radius:8px\">  Modeling </h1>"
      ],
      "metadata": {
        "id": "Vxr7CuhaWHzx"
      }
    },
    {
      "cell_type": "markdown",
      "source": [
        "## train test split"
      ],
      "metadata": {
        "id": "9k4rOt_sWHzx"
      }
    },
    {
      "cell_type": "code",
      "source": [
        "X=train\n",
        "y=train_idx['target']\n",
        "\n",
        "X_train,X_valid,y_train,y_valid = train_test_split(X, y, test_size=0.2,random_state=18)"
      ],
      "metadata": {
        "execution": {
          "iopub.status.busy": "2022-03-30T02:31:10.058841Z",
          "iopub.execute_input": "2022-03-30T02:31:10.059559Z",
          "iopub.status.idle": "2022-03-30T02:31:10.292177Z",
          "shell.execute_reply.started": "2022-03-30T02:31:10.059519Z",
          "shell.execute_reply": "2022-03-30T02:31:10.291332Z"
        },
        "trusted": true,
        "id": "QSRJIpH2WHzy"
      },
      "execution_count": 78,
      "outputs": []
    },
    {
      "cell_type": "markdown",
      "source": [
        "### Model tuning"
      ],
      "metadata": {
        "id": "tET7biDjWHzy"
      }
    },
    {
      "cell_type": "code",
      "source": [
        "cv = StratifiedKFold(n_splits=5, shuffle=True, random_state=18)\n",
        "def getScore(clf):\n",
        "    score = cross_val_score(clf,X_train, y_train, cv=cv, n_jobs = 1, scoring = 'roc_auc')\n",
        "    return score\n",
        "\n",
        "#Returns validation score\n",
        "def get_val_score(model, train_x, train_y):\n",
        "    val_proba = model.predict_proba(X_valid)[:,1]\n",
        "    train_proba = model.predict_proba(train_x)[:,1]\n",
        "    print (\"train :\",roc_auc_score(train_y,train_proba))\n",
        "    print (\"test :\",roc_auc_score(y_valid,val_proba))\n",
        "    return train_proba, val_proba"
      ],
      "metadata": {
        "execution": {
          "iopub.status.busy": "2022-03-30T02:31:12.241697Z",
          "iopub.execute_input": "2022-03-30T02:31:12.241958Z",
          "iopub.status.idle": "2022-03-30T02:31:12.248656Z",
          "shell.execute_reply.started": "2022-03-30T02:31:12.241929Z",
          "shell.execute_reply": "2022-03-30T02:31:12.247798Z"
        },
        "trusted": true,
        "id": "nvX6gtoQWHzy"
      },
      "execution_count": 79,
      "outputs": []
    },
    {
      "cell_type": "code",
      "source": [
        "RF = RandomForestClassifier(n_estimators = 400, min_samples_split=60)\n",
        "RF.fit(X_train,y_train)\n",
        "RF_train_proba, RF_valid_proba = get_val_score(RF,X_train,y_train)"
      ],
      "metadata": {
        "execution": {
          "iopub.status.busy": "2022-03-30T02:31:16.166925Z",
          "iopub.execute_input": "2022-03-30T02:31:16.167241Z",
          "iopub.status.idle": "2022-03-30T02:33:36.73995Z",
          "shell.execute_reply.started": "2022-03-30T02:31:16.167207Z",
          "shell.execute_reply": "2022-03-30T02:33:36.739048Z"
        },
        "trusted": true,
        "colab": {
          "base_uri": "https://localhost:8080/"
        },
        "id": "iLtOmQtcWHzy",
        "outputId": "d0598108-cea0-41af-b4d3-8687223e58c7"
      },
      "execution_count": 80,
      "outputs": [
        {
          "output_type": "stream",
          "name": "stdout",
          "text": [
            "train : 0.8439919260236501\n",
            "test : 0.7653749373127026\n"
          ]
        }
      ]
    },
    {
      "cell_type": "code",
      "source": [
        "LGBM = LGBMClassifier()\n",
        "LGBM.fit(X_train,y_train,eval_set=[(X_valid, y_valid)],early_stopping_rounds=200,verbose=100,eval_metric='auc')\n",
        "LG_train_proba, LG_valid_proba = get_val_score(LGBM,X_train,y_train)"
      ],
      "metadata": {
        "execution": {
          "iopub.status.busy": "2022-03-30T02:33:36.741327Z",
          "iopub.execute_input": "2022-03-30T02:33:36.741562Z",
          "iopub.status.idle": "2022-03-30T02:33:41.269183Z",
          "shell.execute_reply.started": "2022-03-30T02:33:36.741534Z",
          "shell.execute_reply": "2022-03-30T02:33:41.268297Z"
        },
        "trusted": true,
        "colab": {
          "base_uri": "https://localhost:8080/"
        },
        "id": "KTw9bG09WHzy",
        "outputId": "c012f67e-72e6-4b22-c939-54575b9f5f11"
      },
      "execution_count": 81,
      "outputs": [
        {
          "output_type": "stream",
          "name": "stdout",
          "text": [
            "Training until validation scores don't improve for 200 rounds.\n",
            "[100]\tvalid_0's auc: 0.768211\tvalid_0's binary_logloss: 0.508239\n",
            "Did not meet early stopping. Best iteration is:\n",
            "[39]\tvalid_0's auc: 0.769653\tvalid_0's binary_logloss: 0.507354\n",
            "train : 0.781307586549382\n",
            "test : 0.769652767414837\n"
          ]
        }
      ]
    },
    {
      "cell_type": "code",
      "source": [
        "CBM = CatBoostClassifier()\n",
        "CBM.fit(X_train,y_train, eval_set=[(X_valid, y_valid)], early_stopping_rounds=200,verbose=100)\n",
        "CB_train_proba, CB_valid_proba = get_val_score(CBM,X_train,y_train)"
      ],
      "metadata": {
        "execution": {
          "iopub.status.busy": "2022-03-30T02:33:41.270364Z",
          "iopub.execute_input": "2022-03-30T02:33:41.270577Z",
          "iopub.status.idle": "2022-03-30T02:34:02.494059Z",
          "shell.execute_reply.started": "2022-03-30T02:33:41.270548Z",
          "shell.execute_reply": "2022-03-30T02:34:02.49324Z"
        },
        "trusted": true,
        "colab": {
          "base_uri": "https://localhost:8080/"
        },
        "id": "l-6IGJEVWHzy",
        "outputId": "13aff43f-c6db-4d09-915b-97c7cb255251"
      },
      "execution_count": 82,
      "outputs": [
        {
          "output_type": "stream",
          "name": "stdout",
          "text": [
            "Learning rate set to 0.085647\n",
            "0:\tlearn: 0.6623437\ttest: 0.6624980\tbest: 0.6624980 (0)\ttotal: 65.9ms\tremaining: 1m 5s\n",
            "100:\tlearn: 0.5001179\ttest: 0.5070823\tbest: 0.5070521 (99)\ttotal: 1.84s\tremaining: 16.4s\n",
            "200:\tlearn: 0.4927946\ttest: 0.5073126\tbest: 0.5069127 (125)\ttotal: 3.54s\tremaining: 14.1s\n",
            "300:\tlearn: 0.4858906\ttest: 0.5079878\tbest: 0.5069127 (125)\ttotal: 5.24s\tremaining: 12.2s\n",
            "Stopped by overfitting detector  (200 iterations wait)\n",
            "\n",
            "bestTest = 0.5069126764\n",
            "bestIteration = 125\n",
            "\n",
            "Shrink model to first 126 iterations.\n",
            "train : 0.7808908724775756\n",
            "test : 0.7700381994985016\n"
          ]
        }
      ]
    },
    {
      "cell_type": "code",
      "source": [
        "XGB = XGBClassifier()\n",
        "XGB.fit(X_train,y_train,eval_set=[(X_valid, y_valid)],early_stopping_rounds=200,verbose=100,eval_metric='auc')\n",
        "XG_train_proba, XG_valid_proba = get_val_score(XGB,X_train,y_train)"
      ],
      "metadata": {
        "execution": {
          "iopub.status.busy": "2022-03-30T02:34:02.49607Z",
          "iopub.execute_input": "2022-03-30T02:34:02.496609Z",
          "iopub.status.idle": "2022-03-30T02:34:59.641857Z",
          "shell.execute_reply.started": "2022-03-30T02:34:02.496546Z",
          "shell.execute_reply": "2022-03-30T02:34:59.640388Z"
        },
        "trusted": true,
        "colab": {
          "base_uri": "https://localhost:8080/"
        },
        "id": "CVBtf9GcWHzy",
        "outputId": "91057fc1-1c52-484c-e5c9-e2faa487098f"
      },
      "execution_count": 83,
      "outputs": [
        {
          "output_type": "stream",
          "name": "stdout",
          "text": [
            "[0]\tvalidation_0-auc:0.740378\n",
            "Will train until validation_0-auc hasn't improved in 200 rounds.\n",
            "[99]\tvalidation_0-auc:0.77006\n",
            "train : 0.7729709848756116\n",
            "test : 0.7700944896336617\n"
          ]
        }
      ]
    },
    {
      "cell_type": "code",
      "source": [
        "#imputation mean and mode\n",
        "1st : 76  with minumum feature\n",
        "2nd : 76.8 78.3 78.2 75.9 with all features and mode&mean\n",
        "3rd : 77.0 78.2 78.3 77.7 with high null value feature deleted and mode&mean\n",
        "4th : 77.0 78.4 78.2 77.8 with high null value feature deleted and mode&mean and scaled\n",
        "5th : 75.9 76.3 76.4 76.3 with minimum features and mice \n",
        "6th : 76.9 78.3 78.3 78.0 with all features and mice\n",
        "7th : 76.5 76.9 77.0 77.0 with min feature and mice and high null value deleted"
      ],
      "metadata": {
        "id": "RaGcEyd-WHzy"
      },
      "execution_count": null,
      "outputs": []
    },
    {
      "cell_type": "code",
      "source": [
        ""
      ],
      "metadata": {
        "id": "_gn1LXgCrBes"
      },
      "execution_count": null,
      "outputs": []
    },
    {
      "cell_type": "markdown",
      "source": [
        "## Tuning"
      ],
      "metadata": {
        "id": "lVKkAcqFWHzz"
      }
    },
    {
      "cell_type": "code",
      "source": [
        "#LGBM\n",
        "\n",
        "def objective(trial, X, y):\n",
        "    param_grid = {\n",
        "        \n",
        "        # \"device_type\": trial.suggest_categorical(\"device_type\", ['gpu']),\n",
        "        \"n_estimators\": trial.suggest_int(\"n_estimators\", 3000,20000,step=20),\n",
        "        \"num_boost_round\": trial.suggest_int(\"num_boost_round\", 500,10000,step=20),\n",
        "        \"learning_rate\": trial.suggest_loguniform(\"learning_rate\", 0.02, 0.5),\n",
        "        \"num_leaves\": trial.suggest_int(\"num_leaves\", 500, 2000, step=20),\n",
        "        \"max_depth\": trial.suggest_int(\"max_depth\", 3, 10),\n",
        "        \"lambda_l1\": trial.suggest_loguniform(\"lambda_l1\", 1.0, 12.0),\n",
        "        \"lambda_l2\": trial.suggest_loguniform(\"lambda_l2\", 1.0, 12.0),\n",
        "        #\"reg_alpha\": trial.suggest_loguniform(\"reg_alpha\", 1.0, 15.0),\n",
        "        \"l2_leaf_reg\": trial.suggest_loguniform(\"l2_leaf_reg\", 0.1, 10.0),\n",
        "        #\"reg_lambda\": trial.suggest_loguniform(\"reg_lambda\", 1.0, 15.0),\n",
        "        #\"min_child_sample\": trial.suggest_int(\"min_child_sample\", 40, 120, step=2),\n",
        "        \"min_data_in_leaf\": trial.suggest_int(\"min_data_in_leaf\", 30, 120, step=2),\n",
        "        #'scale_pos_weight': trial.suggest_float(\"scale_pos_weight\", 0.1, 0.95, step=0.1),\n",
        "        'subsample': trial.suggest_loguniform('subsample', 0.3, 0.9),\n",
        "        #'colsample_bytree': trial.suggest_float('colsample_bytree', 0.5, 1.0),\n",
        "        'colsample_bylevel': trial.suggest_float('colsample_bylevel', 0.3, 0.9, step=0.2),\n",
        "        #\"gamma\": trial.suggest_float(\"gamma\", 0.2, 0.95, step=0.1),\n",
        "        #\"min_child_weight\": trial.suggest_float(\"min_child_weight\", 1, 10, step=1),\n",
        "       \n",
        "        \"bagging_fraction\": trial.suggest_float('bagging_fraction', 0.3, 0.8, step=0.2),\n",
        "        \"bagging_freq\": trial.suggest_int(\"bagging_freq\", 0,10),\n",
        "        \"feature_fraction\": trial.suggest_float(\"feature_fraction\", 0.2, 0.95, step=0.2),\n",
        "        'eval_metric': trial.suggest_categorical('eval_metric',[\"AUC\"])\n",
        "    }\n",
        "\n",
        "    cv = StratifiedKFold(n_splits=5, shuffle=True, random_state=18)\n",
        "\n",
        "    cv_scores = np.empty(5)\n",
        "    for idx, (train_idx, test_idx) in enumerate(cv.split(X, y)):\n",
        "        X_train, X_test = X.iloc[train_idx], X.iloc[test_idx]\n",
        "        y_train, y_test = y[train_idx], y[test_idx]\n",
        "\n",
        "        model = LGBMClassifier( **param_grid, random_state=42)\n",
        "        model.fit(\n",
        "            X_train,\n",
        "            y_train,\n",
        "            eval_set=[(X_test, y_test)],\n",
        "            eval_metric=\"auc\",\n",
        "            early_stopping_rounds=200,\n",
        "            verbose=200,\n",
        "\n",
        "        )\n",
        "        preds = model.predict_proba(X_test)\n",
        "        cv_scores[idx] = roc_auc_score(y_test, preds[:,1])\n",
        "\n",
        "    return np.mean(cv_scores)\n",
        "\n",
        "\n",
        "#Start tuning\n",
        "study = optuna.create_study(direction=\"maximize\", study_name=\"LGBM Classifier\")\n",
        "func = lambda trial: objective(trial, X, y)\n",
        "study.optimize(func, n_trials=20)\n",
        "\n",
        "#Show best parameters\n",
        "print(f\"\\tBest auc: {study.best_value:.5f}\")\n",
        "print(f\"\\tBest params:\")\n",
        "for key, value in study.best_params.items():\n",
        "    print(f\"\\t\\t{key}: {value}\")"
      ],
      "metadata": {
        "id": "EXR9C9slWHzz"
      },
      "execution_count": null,
      "outputs": []
    },
    {
      "cell_type": "code",
      "source": [
        ""
      ],
      "metadata": {
        "id": "4nyaLbXoWHzz"
      },
      "execution_count": null,
      "outputs": []
    },
    {
      "cell_type": "code",
      "source": [
        "study.best_params"
      ],
      "metadata": {
        "execution": {
          "iopub.status.busy": "2022-03-29T06:23:26.009427Z",
          "iopub.execute_input": "2022-03-29T06:23:26.009881Z",
          "iopub.status.idle": "2022-03-29T06:23:26.017274Z",
          "shell.execute_reply.started": "2022-03-29T06:23:26.00984Z",
          "shell.execute_reply": "2022-03-29T06:23:26.016251Z"
        },
        "trusted": true,
        "id": "P-7ZMxzgWHzz"
      },
      "execution_count": null,
      "outputs": []
    },
    {
      "cell_type": "markdown",
      "source": [
        "#XGB\n",
        "\n",
        "def objective(trial, X, y):\n",
        "    param_grid = {\n",
        "        \n",
        "        # \"device_type\": trial.suggest_categorical(\"device_type\", ['gpu']),\n",
        "        \"n_estimators\": trial.suggest_int(\"n_estimators\", 5000,20000,step=10),\n",
        "        \"learning_rate\": trial.suggest_loguniform(\"learning_rate\", 0.02, 0.1),\n",
        "        \"num_leaves\": trial.suggest_int(\"num_leaves\", 10, 2000, step=20),\n",
        "        \"max_depth\": trial.suggest_int(\"max_depth\", 3, 12),\n",
        "        \"lambda_l1\": trial.suggest_loguniform(\"lambda_l1\", 1.0, 15.0),\n",
        "        \"lambda_l2\": trial.suggest_loguniform(\"lambda_l2\", 1.0, 15.0),\n",
        "        #\"reg_alpha\": trial.suggest_loguniform(\"reg_alpha\", 1.0, 15.0),\n",
        "        #\"reg_lambda\": trial.suggest_loguniform(\"reg_lambda\", 1.0, 15.0),\n",
        "        \"min_child_sample\": trial.suggest_int(\"min_child_sample\", 50, 150, step=2),\n",
        "        #'scale_pos_weight': trial.suggest_float(\"scale_pos_weight\", 0.1, 0.95, step=0.1),\n",
        "        'subsample': trial.suggest_loguniform('subsample', 0.4, 1.0),\n",
        "        #'colsample_bytree': trial.suggest_float('colsample_bytree', 0.5, 1.0),\n",
        "        #\"gamma\": trial.suggest_float(\"gamma\", 0.2, 0.95, step=0.1),\n",
        "        #\"min_child_weight\": trial.suggest_float(\"min_child_weight\", 1, 10, step=1),\n",
        "       \n",
        "        \"bagging_fraction\": trial.suggest_float('bagging_fraction', 0.3, 0.8, step=0.1)\n",
        "        \"bagging_freq\": trial.suggest_int(\"bagging_freq\", 0,10, step=0.2),\n",
        "        \"feature_fraction\": trial.suggest_float(\"feature_fraction\", 0.2, 0.95, step=0.1),\n",
        "    }\n",
        "\n",
        "    cv = StratifiedKFold(n_splits=5, shuffle=True, random_state=18)\n",
        "\n",
        "    cv_scores = np.empty(5)\n",
        "    for idx, (train_idx, test_idx) in enumerate(cv.split(X, y)):\n",
        "        X_train, X_test = X.iloc[train_idx], X.iloc[test_idx]\n",
        "        y_train, y_test = y[train_idx], y[test_idx]\n",
        "\n",
        "        model = XGBClassifier( **param_grid)\n",
        "        model.fit(\n",
        "            X_train,\n",
        "            y_train,\n",
        "            eval_set=[(X_test, y_test)],\n",
        "            eval_metric=\"auc\",\n",
        "            early_stopping_rounds=200,\n",
        "            verbose=200,\n",
        "\n",
        "        )\n",
        "        preds = model.predict_proba(X_test)\n",
        "        cv_scores[idx] = roc_auc_score(y_test, preds[:,1])\n",
        "\n",
        "    return np.mean(cv_scores)\n",
        "\n",
        "\n",
        "#Start tuning\n",
        "study = optuna.create_study(direction=\"maximize\", study_name=\"LGBM Classifier\")\n",
        "func = lambda trial: objective(trial, X, y)\n",
        "study.optimize(func, n_trials=20)\n",
        "\n",
        "#Show best parameters\n",
        "print(f\"\\tBest auc: {study.best_value:.5f}\")\n",
        "print(f\"\\tBest params:\")\n",
        "for key, value in study.best_params.items():\n",
        "    print(f\"\\t\\t{key}: {value}\")"
      ],
      "metadata": {
        "id": "Ow6rKRIuWHzz"
      }
    },
    {
      "cell_type": "markdown",
      "source": [
        "## Models with tuned params"
      ],
      "metadata": {
        "id": "SWrMsMbrWHzz"
      }
    },
    {
      "cell_type": "code",
      "source": [
        "# my result\n",
        "LGBM_params = {'n_estimators': 11840,\n",
        " 'num_boost_round': 4780,\n",
        " 'learning_rate': 0.020752194769577355,\n",
        " 'num_leaves': 1240,\n",
        " 'max_depth': 5,\n",
        " 'lambda_l1': 1.144507966666114,\n",
        " 'lambda_l2': 9.092937992824332,\n",
        " 'l2_leaf_reg': 5.4086034155921965,\n",
        " 'min_data_in_leaf': 56,\n",
        " 'subsample': 0.3470688170169624,\n",
        " 'colsample_bylevel': 0.3,\n",
        " 'bagging_fraction': 0.7,\n",
        " 'bagging_freq': 5,\n",
        " 'feature_fraction': 0.4,\n",
        " 'eval_metric': 'AUC'}\n",
        "\n",
        "CATBOOST_params = {'num_boost_round': 9480,\n",
        " 'learning_rate': 0.03491087345019091,\n",
        " 'max_depth': 4,\n",
        " 'l2_leaf_reg': 1.617381591916611,\n",
        " 'min_data_in_leaf': 74,\n",
        " 'subsample': 0.4719790044645917,\n",
        " 'colsample_bylevel': 0.9,\n",
        " 'random_state': 42,\n",
        " 'eval_metric': 'AUC'}"
      ],
      "metadata": {
        "execution": {
          "iopub.status.busy": "2022-03-29T06:30:11.695594Z",
          "iopub.execute_input": "2022-03-29T06:30:11.695907Z",
          "iopub.status.idle": "2022-03-29T06:30:11.704024Z",
          "shell.execute_reply.started": "2022-03-29T06:30:11.695873Z",
          "shell.execute_reply": "2022-03-29T06:30:11.703062Z"
        },
        "trusted": true,
        "id": "pKaODPF0WHzz"
      },
      "execution_count": null,
      "outputs": []
    },
    {
      "cell_type": "code",
      "source": [
        "LGBM = LGBMClassifier(**LGBM_params)"
      ],
      "metadata": {
        "execution": {
          "iopub.status.busy": "2022-03-29T06:30:14.136825Z",
          "iopub.execute_input": "2022-03-29T06:30:14.137686Z",
          "iopub.status.idle": "2022-03-29T06:30:14.141905Z",
          "shell.execute_reply.started": "2022-03-29T06:30:14.137637Z",
          "shell.execute_reply": "2022-03-29T06:30:14.141286Z"
        },
        "trusted": true,
        "id": "4PDlyMYiWHzz"
      },
      "execution_count": null,
      "outputs": []
    },
    {
      "cell_type": "markdown",
      "source": [
        "## Validation score function"
      ],
      "metadata": {
        "id": "aJphpig1WHz0"
      }
    },
    {
      "cell_type": "code",
      "source": [
        "#Returns validation score\n",
        "def get_val_score2(model):\n",
        "    val_pred = model.predict_proba(X_valid)\n",
        "    return roc_auc_score(y_valid,val_pred[:,1])"
      ],
      "metadata": {
        "execution": {
          "iopub.status.busy": "2022-03-29T06:30:17.638575Z",
          "iopub.execute_input": "2022-03-29T06:30:17.639038Z",
          "iopub.status.idle": "2022-03-29T06:30:17.64366Z",
          "shell.execute_reply.started": "2022-03-29T06:30:17.638987Z",
          "shell.execute_reply": "2022-03-29T06:30:17.642834Z"
        },
        "trusted": true,
        "id": "2isVxCLtWHz0"
      },
      "execution_count": 29,
      "outputs": []
    },
    {
      "cell_type": "markdown",
      "source": [
        "## LGBM Classifier"
      ],
      "metadata": {
        "id": "Zn34BlAvWHz0"
      }
    },
    {
      "cell_type": "code",
      "source": [
        "LGBM.fit(X_train,y_train,\n",
        "         eval_set=[(X_valid, y_valid)],\n",
        "         early_stopping_rounds=200,verbose=100,eval_metric='auc')\n",
        "#Get score\n",
        "print(\"=\"*20)\n",
        "print(\"LGBM Validation AUC : \", get_val_score2(LGBM))"
      ],
      "metadata": {
        "execution": {
          "iopub.status.busy": "2022-03-29T06:30:19.787497Z",
          "iopub.execute_input": "2022-03-29T06:30:19.788047Z",
          "iopub.status.idle": "2022-03-29T06:30:23.829666Z",
          "shell.execute_reply.started": "2022-03-29T06:30:19.788012Z",
          "shell.execute_reply": "2022-03-29T06:30:23.82892Z"
        },
        "trusted": true,
        "id": "lmbA-dSBWHz0",
        "colab": {
          "base_uri": "https://localhost:8080/",
          "height": 232
        },
        "outputId": "780e118b-4b7b-4b3b-e271-ed7919833580"
      },
      "execution_count": 30,
      "outputs": [
        {
          "output_type": "error",
          "ename": "NameError",
          "evalue": "ignored",
          "traceback": [
            "\u001b[0;31m---------------------------------------------------------------------------\u001b[0m",
            "\u001b[0;31mNameError\u001b[0m                                 Traceback (most recent call last)",
            "\u001b[0;32m<ipython-input-30-2d8f031d4703>\u001b[0m in \u001b[0;36m<module>\u001b[0;34m()\u001b[0m\n\u001b[0;32m----> 1\u001b[0;31m LGBM.fit(X_train,y_train,\n\u001b[0m\u001b[1;32m      2\u001b[0m          \u001b[0meval_set\u001b[0m\u001b[0;34m=\u001b[0m\u001b[0;34m[\u001b[0m\u001b[0;34m(\u001b[0m\u001b[0mX_valid\u001b[0m\u001b[0;34m,\u001b[0m \u001b[0my_valid\u001b[0m\u001b[0;34m)\u001b[0m\u001b[0;34m]\u001b[0m\u001b[0;34m,\u001b[0m\u001b[0;34m\u001b[0m\u001b[0;34m\u001b[0m\u001b[0m\n\u001b[1;32m      3\u001b[0m          early_stopping_rounds=200,verbose=100,eval_metric='auc')\n\u001b[1;32m      4\u001b[0m \u001b[0;31m#Get score\u001b[0m\u001b[0;34m\u001b[0m\u001b[0;34m\u001b[0m\u001b[0;34m\u001b[0m\u001b[0m\n\u001b[1;32m      5\u001b[0m \u001b[0mprint\u001b[0m\u001b[0;34m(\u001b[0m\u001b[0;34m\"=\"\u001b[0m\u001b[0;34m*\u001b[0m\u001b[0;36m20\u001b[0m\u001b[0;34m)\u001b[0m\u001b[0;34m\u001b[0m\u001b[0;34m\u001b[0m\u001b[0m\n",
            "\u001b[0;31mNameError\u001b[0m: name 'LGBM' is not defined"
          ]
        }
      ]
    },
    {
      "cell_type": "code",
      "source": [
        "LGBM_pred=LGBM.predict_proba(test)"
      ],
      "metadata": {
        "execution": {
          "iopub.status.busy": "2022-03-29T06:35:35.219202Z",
          "iopub.execute_input": "2022-03-29T06:35:35.220048Z",
          "iopub.status.idle": "2022-03-29T06:35:35.483216Z",
          "shell.execute_reply.started": "2022-03-29T06:35:35.220002Z",
          "shell.execute_reply": "2022-03-29T06:35:35.482494Z"
        },
        "trusted": true,
        "id": "0W4QGiIuWHz0"
      },
      "execution_count": null,
      "outputs": []
    },
    {
      "cell_type": "code",
      "source": [
        "test_predictions = LGBM_pred[:,1]"
      ],
      "metadata": {
        "execution": {
          "iopub.status.busy": "2022-03-29T06:37:18.499043Z",
          "iopub.execute_input": "2022-03-29T06:37:18.499617Z",
          "iopub.status.idle": "2022-03-29T06:37:18.50333Z",
          "shell.execute_reply.started": "2022-03-29T06:37:18.499581Z",
          "shell.execute_reply": "2022-03-29T06:37:18.502709Z"
        },
        "trusted": true,
        "id": "CrkqT2RjWHz0"
      },
      "execution_count": null,
      "outputs": []
    },
    {
      "cell_type": "markdown",
      "source": [
        "### Create submission file"
      ],
      "metadata": {
        "id": "D5GoDUaCWHz0"
      }
    },
    {
      "cell_type": "code",
      "source": [
        "sample['target']=test_predictions\n",
        "sample.to_csv('submission.csv',index=False)\n",
        "sample.head(10)"
      ],
      "metadata": {
        "execution": {
          "iopub.status.busy": "2022-03-29T06:37:20.565695Z",
          "iopub.execute_input": "2022-03-29T06:37:20.566117Z",
          "iopub.status.idle": "2022-03-29T06:37:20.701405Z",
          "shell.execute_reply.started": "2022-03-29T06:37:20.566085Z",
          "shell.execute_reply": "2022-03-29T06:37:20.700136Z"
        },
        "trusted": true,
        "id": "BhnUiWzSWHz0"
      },
      "execution_count": null,
      "outputs": []
    },
    {
      "cell_type": "markdown",
      "source": [
        "### Credits\n",
        "\n",
        "\n",
        "https://towardsdatascience.com/categorical-feature-selection-via-chi-square-fc558b09de43\n",
        "\n",
        "https://towardsdatascience.com/kagglers-guide-to-lightgbm-hyperparameter-tuning-with-optuna-in-2021-ed048d9838b5\n",
        "\n",
        "https://towardsdatascience.com/understanding-feature-engineering-part-1-continuous-numeric-data-da4e47099a7b\n"
      ],
      "metadata": {
        "id": "UwPwQ7YtWHz0"
      }
    }
  ]
}